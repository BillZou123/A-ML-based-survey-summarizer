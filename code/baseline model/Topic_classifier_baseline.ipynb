{
  "nbformat": 4,
  "nbformat_minor": 0,
  "metadata": {
    "colab": {
      "provenance": []
    },
    "kernelspec": {
      "name": "python3",
      "display_name": "Python 3"
    },
    "language_info": {
      "name": "python"
    },
    "gpuClass": "standard"
  },
  "cells": [
    {
      "cell_type": "code",
      "execution_count": null,
      "metadata": {
        "colab": {
          "base_uri": "https://localhost:8080/",
          "height": 363
        },
        "id": "NxzgawzjwkRE",
        "outputId": "a3ffb659-df55-43c9-91d9-b498e973a652"
      },
      "outputs": [
        {
          "output_type": "execute_result",
          "data": {
            "text/plain": [
              "   Unnamed: 0  Unnamed: 0.1  \\\n",
              "0         169           169   \n",
              "1         191           191   \n",
              "2         154           154   \n",
              "3          11            11   \n",
              "4          77            77   \n",
              "5         207           207   \n",
              "6         130           130   \n",
              "7         161           161   \n",
              "8         188           188   \n",
              "9          32            32   \n",
              "\n",
              "                                           responses  label  \n",
              "0                        Better de-escalation skills      3  \n",
              "1  Better understanding of team work in applying ...      5  \n",
              "2   Being more trauma aware when applying restraints      2  \n",
              "3  Knowing how and when to apply restrains is ess...      0  \n",
              "4  Being more trauma informed and assess my abili...      2  \n",
              "5  More familiar with and recognize signs of agit...      1  \n",
              "6               Educate other staff for use of TIDES      5  \n",
              "7  Resolve moral residue by addressing the issue ...      5  \n",
              "8                                    Work as a team.      5  \n",
              "9  Better criteria when making decision on restra...      0  "
            ],
            "text/html": [
              "\n",
              "  <div id=\"df-d8555792-1e2d-4e1c-81ea-4a2a2a424054\">\n",
              "    <div class=\"colab-df-container\">\n",
              "      <div>\n",
              "<style scoped>\n",
              "    .dataframe tbody tr th:only-of-type {\n",
              "        vertical-align: middle;\n",
              "    }\n",
              "\n",
              "    .dataframe tbody tr th {\n",
              "        vertical-align: top;\n",
              "    }\n",
              "\n",
              "    .dataframe thead th {\n",
              "        text-align: right;\n",
              "    }\n",
              "</style>\n",
              "<table border=\"1\" class=\"dataframe\">\n",
              "  <thead>\n",
              "    <tr style=\"text-align: right;\">\n",
              "      <th></th>\n",
              "      <th>Unnamed: 0</th>\n",
              "      <th>Unnamed: 0.1</th>\n",
              "      <th>responses</th>\n",
              "      <th>label</th>\n",
              "    </tr>\n",
              "  </thead>\n",
              "  <tbody>\n",
              "    <tr>\n",
              "      <th>0</th>\n",
              "      <td>169</td>\n",
              "      <td>169</td>\n",
              "      <td>Better de-escalation skills</td>\n",
              "      <td>3</td>\n",
              "    </tr>\n",
              "    <tr>\n",
              "      <th>1</th>\n",
              "      <td>191</td>\n",
              "      <td>191</td>\n",
              "      <td>Better understanding of team work in applying ...</td>\n",
              "      <td>5</td>\n",
              "    </tr>\n",
              "    <tr>\n",
              "      <th>2</th>\n",
              "      <td>154</td>\n",
              "      <td>154</td>\n",
              "      <td>Being more trauma aware when applying restraints</td>\n",
              "      <td>2</td>\n",
              "    </tr>\n",
              "    <tr>\n",
              "      <th>3</th>\n",
              "      <td>11</td>\n",
              "      <td>11</td>\n",
              "      <td>Knowing how and when to apply restrains is ess...</td>\n",
              "      <td>0</td>\n",
              "    </tr>\n",
              "    <tr>\n",
              "      <th>4</th>\n",
              "      <td>77</td>\n",
              "      <td>77</td>\n",
              "      <td>Being more trauma informed and assess my abili...</td>\n",
              "      <td>2</td>\n",
              "    </tr>\n",
              "    <tr>\n",
              "      <th>5</th>\n",
              "      <td>207</td>\n",
              "      <td>207</td>\n",
              "      <td>More familiar with and recognize signs of agit...</td>\n",
              "      <td>1</td>\n",
              "    </tr>\n",
              "    <tr>\n",
              "      <th>6</th>\n",
              "      <td>130</td>\n",
              "      <td>130</td>\n",
              "      <td>Educate other staff for use of TIDES</td>\n",
              "      <td>5</td>\n",
              "    </tr>\n",
              "    <tr>\n",
              "      <th>7</th>\n",
              "      <td>161</td>\n",
              "      <td>161</td>\n",
              "      <td>Resolve moral residue by addressing the issue ...</td>\n",
              "      <td>5</td>\n",
              "    </tr>\n",
              "    <tr>\n",
              "      <th>8</th>\n",
              "      <td>188</td>\n",
              "      <td>188</td>\n",
              "      <td>Work as a team.</td>\n",
              "      <td>5</td>\n",
              "    </tr>\n",
              "    <tr>\n",
              "      <th>9</th>\n",
              "      <td>32</td>\n",
              "      <td>32</td>\n",
              "      <td>Better criteria when making decision on restra...</td>\n",
              "      <td>0</td>\n",
              "    </tr>\n",
              "  </tbody>\n",
              "</table>\n",
              "</div>\n",
              "      <button class=\"colab-df-convert\" onclick=\"convertToInteractive('df-d8555792-1e2d-4e1c-81ea-4a2a2a424054')\"\n",
              "              title=\"Convert this dataframe to an interactive table.\"\n",
              "              style=\"display:none;\">\n",
              "        \n",
              "  <svg xmlns=\"http://www.w3.org/2000/svg\" height=\"24px\"viewBox=\"0 0 24 24\"\n",
              "       width=\"24px\">\n",
              "    <path d=\"M0 0h24v24H0V0z\" fill=\"none\"/>\n",
              "    <path d=\"M18.56 5.44l.94 2.06.94-2.06 2.06-.94-2.06-.94-.94-2.06-.94 2.06-2.06.94zm-11 1L8.5 8.5l.94-2.06 2.06-.94-2.06-.94L8.5 2.5l-.94 2.06-2.06.94zm10 10l.94 2.06.94-2.06 2.06-.94-2.06-.94-.94-2.06-.94 2.06-2.06.94z\"/><path d=\"M17.41 7.96l-1.37-1.37c-.4-.4-.92-.59-1.43-.59-.52 0-1.04.2-1.43.59L10.3 9.45l-7.72 7.72c-.78.78-.78 2.05 0 2.83L4 21.41c.39.39.9.59 1.41.59.51 0 1.02-.2 1.41-.59l7.78-7.78 2.81-2.81c.8-.78.8-2.07 0-2.86zM5.41 20L4 18.59l7.72-7.72 1.47 1.35L5.41 20z\"/>\n",
              "  </svg>\n",
              "      </button>\n",
              "      \n",
              "  <style>\n",
              "    .colab-df-container {\n",
              "      display:flex;\n",
              "      flex-wrap:wrap;\n",
              "      gap: 12px;\n",
              "    }\n",
              "\n",
              "    .colab-df-convert {\n",
              "      background-color: #E8F0FE;\n",
              "      border: none;\n",
              "      border-radius: 50%;\n",
              "      cursor: pointer;\n",
              "      display: none;\n",
              "      fill: #1967D2;\n",
              "      height: 32px;\n",
              "      padding: 0 0 0 0;\n",
              "      width: 32px;\n",
              "    }\n",
              "\n",
              "    .colab-df-convert:hover {\n",
              "      background-color: #E2EBFA;\n",
              "      box-shadow: 0px 1px 2px rgba(60, 64, 67, 0.3), 0px 1px 3px 1px rgba(60, 64, 67, 0.15);\n",
              "      fill: #174EA6;\n",
              "    }\n",
              "\n",
              "    [theme=dark] .colab-df-convert {\n",
              "      background-color: #3B4455;\n",
              "      fill: #D2E3FC;\n",
              "    }\n",
              "\n",
              "    [theme=dark] .colab-df-convert:hover {\n",
              "      background-color: #434B5C;\n",
              "      box-shadow: 0px 1px 3px 1px rgba(0, 0, 0, 0.15);\n",
              "      filter: drop-shadow(0px 1px 2px rgba(0, 0, 0, 0.3));\n",
              "      fill: #FFFFFF;\n",
              "    }\n",
              "  </style>\n",
              "\n",
              "      <script>\n",
              "        const buttonEl =\n",
              "          document.querySelector('#df-d8555792-1e2d-4e1c-81ea-4a2a2a424054 button.colab-df-convert');\n",
              "        buttonEl.style.display =\n",
              "          google.colab.kernel.accessAllowed ? 'block' : 'none';\n",
              "\n",
              "        async function convertToInteractive(key) {\n",
              "          const element = document.querySelector('#df-d8555792-1e2d-4e1c-81ea-4a2a2a424054');\n",
              "          const dataTable =\n",
              "            await google.colab.kernel.invokeFunction('convertToInteractive',\n",
              "                                                     [key], {});\n",
              "          if (!dataTable) return;\n",
              "\n",
              "          const docLinkHtml = 'Like what you see? Visit the ' +\n",
              "            '<a target=\"_blank\" href=https://colab.research.google.com/notebooks/data_table.ipynb>data table notebook</a>'\n",
              "            + ' to learn more about interactive tables.';\n",
              "          element.innerHTML = '';\n",
              "          dataTable['output_type'] = 'display_data';\n",
              "          await google.colab.output.renderOutput(dataTable, element);\n",
              "          const docLink = document.createElement('div');\n",
              "          docLink.innerHTML = docLinkHtml;\n",
              "          element.appendChild(docLink);\n",
              "        }\n",
              "      </script>\n",
              "    </div>\n",
              "  </div>\n",
              "  "
            ]
          },
          "metadata": {},
          "execution_count": 1
        }
      ],
      "source": [
        "#reference: https://towardsdatascience.com/multi-class-text-classification-with-scikit-learn-12f1e60e0a9f\n",
        "\n",
        "import pandas as pd\n",
        "df = pd.read_csv('Train_classifier.csv')\n",
        "df.head(10)\n"
      ]
    },
    {
      "cell_type": "code",
      "source": [
        "from sklearn.feature_extraction.text import TfidfVectorizer\n",
        "tfidf = TfidfVectorizer(sublinear_tf=True, min_df=5, norm='l2', encoding='latin-1', ngram_range=(1, 2), stop_words='english')\n",
        "features = tfidf.fit_transform(df.responses).toarray()\n",
        "labels = df.label\n",
        "features.shape\n"
      ],
      "metadata": {
        "colab": {
          "base_uri": "https://localhost:8080/"
        },
        "id": "nTuqJPfo3Zs1",
        "outputId": "f6bd4010-c9e0-4ace-f6e0-f9da820c2cbb"
      },
      "execution_count": null,
      "outputs": [
        {
          "output_type": "execute_result",
          "data": {
            "text/plain": [
              "(158, 37)"
            ]
          },
          "metadata": {},
          "execution_count": 2
        }
      ]
    },
    {
      "cell_type": "code",
      "source": [
        "\n",
        "from sklearn.model_selection import train_test_split\n",
        "from sklearn.feature_extraction.text import CountVectorizer\n",
        "from sklearn.feature_extraction.text import TfidfTransformer\n",
        "from sklearn.naive_bayes import MultinomialNB\n",
        "X_train, X_test, y_train, y_test = train_test_split(df['responses'], df['label'], random_state = 0)\n",
        "count_vect = CountVectorizer()\n",
        "X_train_counts = count_vect.fit_transform(X_train)\n",
        "tfidf_transformer = TfidfTransformer()\n",
        "X_train_tfidf = tfidf_transformer.fit_transform(X_train_counts)\n",
        "clf = MultinomialNB().fit(X_train_tfidf, y_train)\n",
        "\n"
      ],
      "metadata": {
        "id": "7RLyt7534Qi9"
      },
      "execution_count": null,
      "outputs": []
    },
    {
      "cell_type": "code",
      "source": [
        "response = \"When needed to restrain someone\"\n",
        "print(clf.predict(count_vect.transform([response])))"
      ],
      "metadata": {
        "colab": {
          "base_uri": "https://localhost:8080/"
        },
        "id": "mlLxC-KEEH1E",
        "outputId": "03a51ad1-8058-4d00-c5ca-c8348386c004"
      },
      "execution_count": null,
      "outputs": [
        {
          "output_type": "stream",
          "name": "stdout",
          "text": [
            "[0]\n"
          ]
        }
      ]
    },
    {
      "cell_type": "code",
      "source": [
        "# testing the accuracy\n",
        "df = pd.read_csv('Test_classifier.csv')\n",
        "\n",
        "predictions =[]\n",
        "references = []\n",
        "for response in df['responses']:\n",
        "  predictions.append(int(clf.predict(count_vect.transform([response]))))\n",
        "for label in df['label']:\n",
        "  references.append(label)\n",
        "\n",
        "print(predictions)\n",
        "print(references)\n",
        "num_total = len(references)\n",
        "num_correct = 0\n",
        "for i in range (num_total):\n",
        "  if predictions[i] == references [i]:\n",
        "    num_correct += 1\n",
        "\n",
        "accuracy = float(num_correct / num_total)\n",
        "print(accuracy)\n",
        "\n"
      ],
      "metadata": {
        "colab": {
          "base_uri": "https://localhost:8080/"
        },
        "id": "DKJIMpWM1O_N",
        "outputId": "0433c063-c9e3-454f-cb76-52ea805e9a4b"
      },
      "execution_count": null,
      "outputs": [
        {
          "output_type": "stream",
          "name": "stdout",
          "text": [
            "[1, 0, 2, 2, 2, 1, 4, 0, 0, 0, 4, 0, 0, 0, 2, 0, 0, 0, 2, 4, 1, 2]\n",
            "[1, 0, 2, 3, 2, 4, 4, 0, 5, 0, 4, 5, 0, 0, 2, 0, 4, 0, 2, 4, 0, 4]\n",
            "0.6818181818181818\n"
          ]
        }
      ]
    },
    {
      "cell_type": "code",
      "source": [
        "#decidion tree\n",
        "from sklearn import datasets\n",
        "from sklearn.metrics import confusion_matrix\n",
        "from sklearn.model_selection import train_test_split\n",
        "import pandas as pd\n",
        "df = pd.read_csv('Train_classifier.csv')\n",
        "X_train, X_test, y_train, y_test = train_test_split(df['responses'], df['label'], random_state = 0)\n",
        "\n",
        "# training a DescisionTreeClassifier\n",
        "from sklearn.tree import DecisionTreeClassifier\n",
        "count_vect = CountVectorizer()\n",
        "X_train_counts = count_vect.fit_transform(X_train)\n",
        "dtree_model = DecisionTreeClassifier(max_depth = 5)\n",
        "X_train_tfidf = tfidf_transformer.fit_transform(X_train_counts)\n",
        "clf = dtree_model.fit(X_train_tfidf, y_train)\n",
        "\n",
        "\n",
        "\n",
        "# testing the accuracy\n",
        "df_test = pd.read_csv('Test_classifier.csv')\n",
        "\n",
        "predictions =[]\n",
        "references = []\n",
        "for response in df_test['responses']:\n",
        "  predictions.append(int(clf.predict(count_vect.transform([response]))))\n",
        "for label in df_test['label']:\n",
        "  references.append(label)\n",
        "\n",
        "print(predictions)\n",
        "print(references)\n",
        "num_total = len(references)\n",
        "num_correct = 0\n",
        "for i in range (num_total):\n",
        "  if predictions[i] == references [i]:\n",
        "    num_correct += 1\n",
        "\n",
        "accuracy = float(num_correct / num_total)\n",
        "print(accuracy)"
      ],
      "metadata": {
        "colab": {
          "base_uri": "https://localhost:8080/"
        },
        "id": "M_6iNuv5Fctk",
        "outputId": "393ad078-6e3b-45c6-b5dd-78d905e56bc9"
      },
      "execution_count": null,
      "outputs": [
        {
          "output_type": "stream",
          "name": "stdout",
          "text": [
            "[1, 0, 2, 1, 1, 1, 4, 1, 1, 1, 4, 5, 1, 0, 1, 1, 1, 0, 2, 4, 1, 1]\n",
            "[1, 0, 2, 3, 2, 4, 4, 0, 5, 0, 4, 5, 0, 0, 2, 0, 4, 0, 2, 4, 0, 4]\n",
            "0.45454545454545453\n"
          ]
        }
      ]
    },
    {
      "cell_type": "code",
      "source": [
        "responses = ['Be more considerate of client having some kind of trauma.', 'Using more hand controls and scanning all beds for landmarks and applying extender to limb for better restraint application', 'De-esclate using verbal skills.', 'Providing info to co-staff who did not attend tides', 'Self-care during work and daily routine']\n",
        "predictions =[]\n",
        "for response in responses:\n",
        "  predictions.append(clf.predict(count_vect.transform([response])))\n",
        "\n",
        "predictions"
      ],
      "metadata": {
        "colab": {
          "base_uri": "https://localhost:8080/"
        },
        "id": "9u9PbRgxm5pF",
        "outputId": "43493b7d-a089-4224-e2bd-32ce5e41428b"
      },
      "execution_count": null,
      "outputs": [
        {
          "output_type": "execute_result",
          "data": {
            "text/plain": [
              "[array([2]), array([1]), array([1]), array([1]), array([4])]"
            ]
          },
          "metadata": {},
          "execution_count": 7
        }
      ]
    }
  ]
}