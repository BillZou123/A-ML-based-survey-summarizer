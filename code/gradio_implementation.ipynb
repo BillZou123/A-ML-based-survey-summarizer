{
  "nbformat": 4,
  "nbformat_minor": 0,
  "metadata": {
    "colab": {
      "provenance": []
    },
    "kernelspec": {
      "name": "python3",
      "display_name": "Python 3"
    },
    "language_info": {
      "name": "python"
    },
    "gpuClass": "standard"
  },
  "cells": [
    {
      "cell_type": "markdown",
      "source": [
        "# Caution⚠️: to run this notebook, you need to load our finetuned model weights which stored on our google drive, if you want to test it please contact us for the model weights file."
      ],
      "metadata": {
        "id": "0JDi6ATczaLQ"
      }
    },
    {
      "cell_type": "code",
      "source": [
        "!pip install transformers"
      ],
      "metadata": {
        "id": "NuhZmcagYcNG"
      },
      "execution_count": null,
      "outputs": []
    },
    {
      "cell_type": "code",
      "source": [
        "from google.colab import drive\n",
        "drive.mount('/content/gdrive')"
      ],
      "metadata": {
        "colab": {
          "base_uri": "https://localhost:8080/"
        },
        "id": "g3PB6FzAYYva",
        "outputId": "caa1c2e4-cc8a-4648-ffbb-3eb02a76b8e7"
      },
      "execution_count": 3,
      "outputs": [
        {
          "output_type": "stream",
          "name": "stdout",
          "text": [
            "Mounted at /content/gdrive\n"
          ]
        }
      ]
    },
    {
      "cell_type": "code",
      "execution_count": 9,
      "metadata": {
        "id": "yfFc5MwXVrg3"
      },
      "outputs": [],
      "source": [
        "\n",
        "from transformers import AutoModelForSequenceClassification,AutoModelForSeq2SeqLM\n",
        "from transformers import pipeline\n",
        "from transformers import AutoTokenizer\n",
        "import pandas as pd\n",
        "def demo_app(csv):\n",
        "  t0 =[]\n",
        "  t1 =[]\n",
        "  t2 = []\n",
        "  t3 = []\n",
        "  t4 = []\n",
        "  t5 = []\n",
        "  pre_defined_topic = ['How to safely and correctly apply restraints to patients',\n",
        "                       'How to deal with aggressive patients',\n",
        "                       'Be trauma-aware during treatment', \n",
        "                       'How to deal with code white situations', \n",
        "                       'Self-care and self-protection during work',\n",
        "                       'Team control and team communication during work']\n",
        "  # we input the csv file\n",
        "  df = pd.read_csv(csv)\n",
        "  input_response = df['responses'].values\n",
        "  # run through the text summarizer model\n",
        "  summary_model = AutoModelForSeq2SeqLM.from_pretrained(\"/content/gdrive/MyDrive/Model_Summarizer\")\n",
        "  tokenizer = AutoTokenizer.from_pretrained(\"facebook/bart-large-cnn\")\n",
        "  summary_result = []\n",
        "  for res in input_response:\n",
        "    summary_pipeline  = pipeline(\"summarization\", model = summary_model, tokenizer = tokenizer)\n",
        "    # model_inputs = tokenizer(response)\n",
        "    # print(\"********\")\n",
        "    # print(summary_pipeline(res)[0]['summary_text'])\n",
        "    summary_result.append(summary_pipeline(res)[0]['summary_text'])\n",
        "\n",
        "\n",
        "  # split the summaries into single sentences -> list\n",
        "  sum_sentences = [] \n",
        "  for summary in summary_result:\n",
        "    sentences = summary.split(\". \")\n",
        "    for s in sentences:\n",
        "      sum_sentences.append(s)\n",
        "  # run through the topic classifier\n",
        "  topic_model = AutoModelForSequenceClassification.from_pretrained(\"/content/gdrive/MyDrive/Model_Classifier\")\n",
        "  load_tokenizer = AutoTokenizer.from_pretrained(\"distilbert-base-uncased\")\n",
        "  topic_pipeline  = pipeline(\"text-classification\", model=topic_model, tokenizer=load_tokenizer)\n",
        "  for s in sum_sentences: \n",
        "    pre_topic = topic_pipeline(s)[0]['label']\n",
        "    if (pre_topic == 'LABEL_1'):\n",
        "      t1.append(s)\n",
        "    elif (pre_topic == 'LABEL_0'):\n",
        "      t0.append(s)\n",
        "    elif (pre_topic == 'LABEL_2'):\n",
        "      t2.append(s)\n",
        "    elif (pre_topic == 'LABEL_3'):\n",
        "      t3.append(s)\n",
        "    elif (pre_topic == 'LABEL_4'):\n",
        "      t4.append(s)\n",
        "    else:\n",
        "      t5.append(s)\n",
        "\n",
        "  # get the final result \n",
        "  total = len(t0)+ len(t1) + len(t2) + len(t3) + len(t4) + len(t5)\n",
        "\n",
        "  # generate a new csv containing the results\n",
        "  data = {pre_defined_topic[0]:\" / \".join(t0),pre_defined_topic[1]:\" / \".join(t1),pre_defined_topic[2]:\" / \".join(t2),pre_defined_topic[3]:\" / \".join(t3),pre_defined_topic[4]:\" / \".join(t4),pre_defined_topic[5]:\" / \".join(t5)}\n",
        "  df = pd.DataFrame(data=data, index=['summary'])\n",
        "  df.loc[\"Percentage\"] = [\"{0:.0f}%\".format(len(t0) / total * 100), \"{0:.0f}%\".format(len(t1) / total * 100),\"{0:.0f}%\".format(len(t2) / total * 100),\"{0:.0f}%\".format(len(t3) / total * 100),\"{0:.0f}%\".format(len(t4) / total * 100),\"{0:.0f}%\".format(len(t5) / total * 100)]\n",
        "  df.to_csv(\"result.csv\")\n",
        "  return df\n",
        "\n"
      ]
    },
    {
      "cell_type": "code",
      "source": [
        "df = demo_app('Test_intent.csv')\n",
        "df"
      ],
      "metadata": {
        "colab": {
          "base_uri": "https://localhost:8080/",
          "height": 316
        },
        "id": "4EXV_s-8V37D",
        "outputId": "e391b00b-407f-4442-bd31-d89a79fc1496"
      },
      "execution_count": 10,
      "outputs": [
        {
          "output_type": "stream",
          "name": "stderr",
          "text": [
            "Your max_length is set to 142, but you input_length is only 130. You might consider decreasing max_length manually, e.g. summarizer('...', max_length=65)\n",
            "Your max_length is set to 142, but you input_length is only 121. You might consider decreasing max_length manually, e.g. summarizer('...', max_length=60)\n"
          ]
        },
        {
          "output_type": "execute_result",
          "data": {
            "text/plain": [
              "           How to safely and correctly apply restraints to patients  \\\n",
              "summary     Use PINEL discontinuation strategies more effe...         \n",
              "Percentage                                                22%         \n",
              "\n",
              "                         How to deal with aggressive patients  \\\n",
              "summary     Be mindful of effect of our actions has on cli...   \n",
              "Percentage                                                25%   \n",
              "\n",
              "                             Be trauma-aware during treatment  \\\n",
              "summary     De-escalate trauma-informed care and team comm...   \n",
              "Percentage                                                25%   \n",
              "\n",
              "                       How to deal with code white situations  \\\n",
              "summary     More use of Red Zone and more in code white si...   \n",
              "Percentage                                                 9%   \n",
              "\n",
              "                    Self-care and self-protection during work  \\\n",
              "summary     Go back to appropriate self-care activities ge...   \n",
              "Percentage                                                 3%   \n",
              "\n",
              "              Team control and team communication during work  \n",
              "summary     Use technique to work with team and discuss st...  \n",
              "Percentage                                                16%  "
            ],
            "text/html": [
              "\n",
              "  <div id=\"df-c6a842d1-02af-41ce-9c5a-d52647d5dd93\">\n",
              "    <div class=\"colab-df-container\">\n",
              "      <div>\n",
              "<style scoped>\n",
              "    .dataframe tbody tr th:only-of-type {\n",
              "        vertical-align: middle;\n",
              "    }\n",
              "\n",
              "    .dataframe tbody tr th {\n",
              "        vertical-align: top;\n",
              "    }\n",
              "\n",
              "    .dataframe thead th {\n",
              "        text-align: right;\n",
              "    }\n",
              "</style>\n",
              "<table border=\"1\" class=\"dataframe\">\n",
              "  <thead>\n",
              "    <tr style=\"text-align: right;\">\n",
              "      <th></th>\n",
              "      <th>How to safely and correctly apply restraints to patients</th>\n",
              "      <th>How to deal with aggressive patients</th>\n",
              "      <th>Be trauma-aware during treatment</th>\n",
              "      <th>How to deal with code white situations</th>\n",
              "      <th>Self-care and self-protection during work</th>\n",
              "      <th>Team control and team communication during work</th>\n",
              "    </tr>\n",
              "  </thead>\n",
              "  <tbody>\n",
              "    <tr>\n",
              "      <th>summary</th>\n",
              "      <td>Use PINEL discontinuation strategies more effe...</td>\n",
              "      <td>Be mindful of effect of our actions has on cli...</td>\n",
              "      <td>De-escalate trauma-informed care and team comm...</td>\n",
              "      <td>More use of Red Zone and more in code white si...</td>\n",
              "      <td>Go back to appropriate self-care activities ge...</td>\n",
              "      <td>Use technique to work with team and discuss st...</td>\n",
              "    </tr>\n",
              "    <tr>\n",
              "      <th>Percentage</th>\n",
              "      <td>22%</td>\n",
              "      <td>25%</td>\n",
              "      <td>25%</td>\n",
              "      <td>9%</td>\n",
              "      <td>3%</td>\n",
              "      <td>16%</td>\n",
              "    </tr>\n",
              "  </tbody>\n",
              "</table>\n",
              "</div>\n",
              "      <button class=\"colab-df-convert\" onclick=\"convertToInteractive('df-c6a842d1-02af-41ce-9c5a-d52647d5dd93')\"\n",
              "              title=\"Convert this dataframe to an interactive table.\"\n",
              "              style=\"display:none;\">\n",
              "        \n",
              "  <svg xmlns=\"http://www.w3.org/2000/svg\" height=\"24px\"viewBox=\"0 0 24 24\"\n",
              "       width=\"24px\">\n",
              "    <path d=\"M0 0h24v24H0V0z\" fill=\"none\"/>\n",
              "    <path d=\"M18.56 5.44l.94 2.06.94-2.06 2.06-.94-2.06-.94-.94-2.06-.94 2.06-2.06.94zm-11 1L8.5 8.5l.94-2.06 2.06-.94-2.06-.94L8.5 2.5l-.94 2.06-2.06.94zm10 10l.94 2.06.94-2.06 2.06-.94-2.06-.94-.94-2.06-.94 2.06-2.06.94z\"/><path d=\"M17.41 7.96l-1.37-1.37c-.4-.4-.92-.59-1.43-.59-.52 0-1.04.2-1.43.59L10.3 9.45l-7.72 7.72c-.78.78-.78 2.05 0 2.83L4 21.41c.39.39.9.59 1.41.59.51 0 1.02-.2 1.41-.59l7.78-7.78 2.81-2.81c.8-.78.8-2.07 0-2.86zM5.41 20L4 18.59l7.72-7.72 1.47 1.35L5.41 20z\"/>\n",
              "  </svg>\n",
              "      </button>\n",
              "      \n",
              "  <style>\n",
              "    .colab-df-container {\n",
              "      display:flex;\n",
              "      flex-wrap:wrap;\n",
              "      gap: 12px;\n",
              "    }\n",
              "\n",
              "    .colab-df-convert {\n",
              "      background-color: #E8F0FE;\n",
              "      border: none;\n",
              "      border-radius: 50%;\n",
              "      cursor: pointer;\n",
              "      display: none;\n",
              "      fill: #1967D2;\n",
              "      height: 32px;\n",
              "      padding: 0 0 0 0;\n",
              "      width: 32px;\n",
              "    }\n",
              "\n",
              "    .colab-df-convert:hover {\n",
              "      background-color: #E2EBFA;\n",
              "      box-shadow: 0px 1px 2px rgba(60, 64, 67, 0.3), 0px 1px 3px 1px rgba(60, 64, 67, 0.15);\n",
              "      fill: #174EA6;\n",
              "    }\n",
              "\n",
              "    [theme=dark] .colab-df-convert {\n",
              "      background-color: #3B4455;\n",
              "      fill: #D2E3FC;\n",
              "    }\n",
              "\n",
              "    [theme=dark] .colab-df-convert:hover {\n",
              "      background-color: #434B5C;\n",
              "      box-shadow: 0px 1px 3px 1px rgba(0, 0, 0, 0.15);\n",
              "      filter: drop-shadow(0px 1px 2px rgba(0, 0, 0, 0.3));\n",
              "      fill: #FFFFFF;\n",
              "    }\n",
              "  </style>\n",
              "\n",
              "      <script>\n",
              "        const buttonEl =\n",
              "          document.querySelector('#df-c6a842d1-02af-41ce-9c5a-d52647d5dd93 button.colab-df-convert');\n",
              "        buttonEl.style.display =\n",
              "          google.colab.kernel.accessAllowed ? 'block' : 'none';\n",
              "\n",
              "        async function convertToInteractive(key) {\n",
              "          const element = document.querySelector('#df-c6a842d1-02af-41ce-9c5a-d52647d5dd93');\n",
              "          const dataTable =\n",
              "            await google.colab.kernel.invokeFunction('convertToInteractive',\n",
              "                                                     [key], {});\n",
              "          if (!dataTable) return;\n",
              "\n",
              "          const docLinkHtml = 'Like what you see? Visit the ' +\n",
              "            '<a target=\"_blank\" href=https://colab.research.google.com/notebooks/data_table.ipynb>data table notebook</a>'\n",
              "            + ' to learn more about interactive tables.';\n",
              "          element.innerHTML = '';\n",
              "          dataTable['output_type'] = 'display_data';\n",
              "          await google.colab.output.renderOutput(dataTable, element);\n",
              "          const docLink = document.createElement('div');\n",
              "          docLink.innerHTML = docLinkHtml;\n",
              "          element.appendChild(docLink);\n",
              "        }\n",
              "      </script>\n",
              "    </div>\n",
              "  </div>\n",
              "  "
            ]
          },
          "metadata": {},
          "execution_count": 10
        }
      ]
    },
    {
      "cell_type": "markdown",
      "source": [
        "# Gradio Implementaion"
      ],
      "metadata": {
        "id": "JIKpr4hxYQY2"
      }
    },
    {
      "cell_type": "code",
      "source": [
        "!pip install gradio"
      ],
      "metadata": {
        "id": "5LFXXCOFYU8v"
      },
      "execution_count": null,
      "outputs": []
    },
    {
      "cell_type": "code",
      "source": [
        "import gradio as gr\n",
        "\n",
        "demo = gr.Interface(\n",
        "    demo_app,\n",
        "    \"text\",\n",
        "    \"dataframe\"\n",
        "    )\n",
        "\n",
        "if __name__ == \"__main__\":\n",
        "    demo.launch()\n",
        "\n",
        "demo.launch()   "
      ],
      "metadata": {
        "id": "iTfkM084YPwe",
        "colab": {
          "base_uri": "https://localhost:8080/",
          "height": 1000
        },
        "outputId": "5b4d8371-825b-4b78-a0d7-085d10510fe4"
      },
      "execution_count": 7,
      "outputs": [
        {
          "output_type": "stream",
          "name": "stdout",
          "text": [
            "Colab notebook detected. To show errors in colab notebook, set `debug=True` in `launch()`\n",
            "Note: opening Chrome Inspector may crash demo inside Colab notebooks.\n",
            "\n",
            "To create a public link, set `share=True` in `launch()`.\n"
          ]
        },
        {
          "output_type": "display_data",
          "data": {
            "text/plain": [
              "<IPython.core.display.Javascript object>"
            ],
            "application/javascript": [
              "(async (port, path, width, height, cache, element) => {\n",
              "                        if (!google.colab.kernel.accessAllowed && !cache) {\n",
              "                            return;\n",
              "                        }\n",
              "                        element.appendChild(document.createTextNode(''));\n",
              "                        const url = await google.colab.kernel.proxyPort(port, {cache});\n",
              "\n",
              "                        const external_link = document.createElement('div');\n",
              "                        external_link.innerHTML = `\n",
              "                            <div style=\"font-family: monospace; margin-bottom: 0.5rem\">\n",
              "                                Running on <a href=${new URL(path, url).toString()} target=\"_blank\">\n",
              "                                    https://localhost:${port}${path}\n",
              "                                </a>\n",
              "                            </div>\n",
              "                        `;\n",
              "                        element.appendChild(external_link);\n",
              "\n",
              "                        const iframe = document.createElement('iframe');\n",
              "                        iframe.src = new URL(path, url).toString();\n",
              "                        iframe.height = height;\n",
              "                        iframe.allow = \"autoplay; camera; microphone; clipboard-read; clipboard-write;\"\n",
              "                        iframe.width = width;\n",
              "                        iframe.style.border = 0;\n",
              "                        element.appendChild(iframe);\n",
              "                    })(7860, \"/\", \"100%\", 500, false, window.element)"
            ]
          },
          "metadata": {}
        },
        {
          "output_type": "stream",
          "name": "stdout",
          "text": [
            "Rerunning server... use `close()` to stop if you need to change `launch()` parameters.\n",
            "----\n",
            "Colab notebook detected. To show errors in colab notebook, set `debug=True` in `launch()`\n",
            "Note: opening Chrome Inspector may crash demo inside Colab notebooks.\n",
            "\n",
            "To create a public link, set `share=True` in `launch()`.\n"
          ]
        },
        {
          "output_type": "display_data",
          "data": {
            "text/plain": [
              "<IPython.core.display.Javascript object>"
            ],
            "application/javascript": [
              "(async (port, path, width, height, cache, element) => {\n",
              "                        if (!google.colab.kernel.accessAllowed && !cache) {\n",
              "                            return;\n",
              "                        }\n",
              "                        element.appendChild(document.createTextNode(''));\n",
              "                        const url = await google.colab.kernel.proxyPort(port, {cache});\n",
              "\n",
              "                        const external_link = document.createElement('div');\n",
              "                        external_link.innerHTML = `\n",
              "                            <div style=\"font-family: monospace; margin-bottom: 0.5rem\">\n",
              "                                Running on <a href=${new URL(path, url).toString()} target=\"_blank\">\n",
              "                                    https://localhost:${port}${path}\n",
              "                                </a>\n",
              "                            </div>\n",
              "                        `;\n",
              "                        element.appendChild(external_link);\n",
              "\n",
              "                        const iframe = document.createElement('iframe');\n",
              "                        iframe.src = new URL(path, url).toString();\n",
              "                        iframe.height = height;\n",
              "                        iframe.allow = \"autoplay; camera; microphone; clipboard-read; clipboard-write;\"\n",
              "                        iframe.width = width;\n",
              "                        iframe.style.border = 0;\n",
              "                        element.appendChild(iframe);\n",
              "                    })(7860, \"/\", \"100%\", 500, false, window.element)"
            ]
          },
          "metadata": {}
        },
        {
          "output_type": "execute_result",
          "data": {
            "text/plain": []
          },
          "metadata": {},
          "execution_count": 7
        }
      ]
    }
  ]
}